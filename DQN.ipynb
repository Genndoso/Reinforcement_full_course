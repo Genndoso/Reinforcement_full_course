{
 "cells": [
  {
   "cell_type": "code",
   "execution_count": 1,
   "metadata": {},
   "outputs": [],
   "source": [
    "import gym\n",
    "import tensorflow as tf\n",
    "tf.compat.v1.disable_eager_execution()\n",
    "import numpy as np\n",
    "from memory_module import replayBuffer"
   ]
  },
  {
   "cell_type": "code",
   "execution_count": 2,
   "metadata": {},
   "outputs": [],
   "source": [
    "def  Neural_Network():\n",
    "    state_input=tf.keras.layers.Input((4,),name='state_input')\n",
    "    action_input=tf.keras.layers.Input((2,),name='action_input')\n",
    "\n",
    "    net=tf.keras.layers.Dense(256,'relu')(state_input)\n",
    "    net=tf.keras.layers.Dense(256,'relu')(net)\n",
    "    net=tf.keras.layers.Dense(2)(net)\n",
    "\n",
    "    Q_vals=tf.multiply(net,action_input,name='masking')\n",
    "\n",
    "    model=tf.keras.Model(inputs=[state_input,action_input],outputs=[Q_vals],name='DQN')\n",
    "    model.compile(loss='mse',optimizer=tf.keras.optimizers.RMSprop(lr=0.00025, rho=0.95, epsilon=0.01))\n",
    "    return model"
   ]
  },
  {
   "cell_type": "code",
   "execution_count": 3,
   "metadata": {},
   "outputs": [
    {
     "name": "stderr",
     "output_type": "stream",
     "text": [
      "WARNING: Logging before flag parsing goes to stderr.\n",
      "W0209 23:36:05.534805 140046186432320 deprecation.py:506] From /home/abhijit/.local/lib/python3.6/site-packages/tensorflow_core/python/ops/resource_variable_ops.py:1635: calling BaseResourceVariable.__init__ (from tensorflow.python.ops.resource_variable_ops) with constraint is deprecated and will be removed in a future version.\n",
      "Instructions for updating:\n",
      "If using Keras pass *_constraint arguments to layers.\n"
     ]
    }
   ],
   "source": [
    "dqn=Neural_Network()\n",
    "fixed_dqn=Neural_Network()"
   ]
  },
  {
   "cell_type": "code",
   "execution_count": 4,
   "metadata": {},
   "outputs": [],
   "source": [
    "def hard_copy(source,target):\n",
    "    target.set_weights(source.get_weights())"
   ]
  },
  {
   "cell_type": "code",
   "execution_count": 5,
   "metadata": {},
   "outputs": [],
   "source": [
    "\n",
    "def train_on_batch(s,a,r,s_,nd):\n",
    "    batch_size=s.shape[0]\n",
    "    q_targets=r+0.99*np.multiply(nd,np.max(fixed_dqn.predict([s_,np.ones((batch_size,2))]),axis=1))\n",
    "    q_target_formated=np.multiply(q_targets.reshape(-1,1),tf.keras.utils.to_categorical(a,2))\n",
    "    \n",
    "    dqn.train_on_batch([s,tf.keras.utils.to_categorical(a,2)],q_target_formated)"
   ]
  },
  {
   "cell_type": "code",
   "execution_count": 6,
   "metadata": {},
   "outputs": [],
   "source": [
    "def get_episilon(step,steady_episilon=0.01,steady_step=100000):\n",
    "    if step>steady_step:\n",
    "        return steady_episilon\n",
    "    else:\n",
    "        m=(steady_episilon-1)/steady_step\n",
    "        return m*step+1"
   ]
  },
  {
   "cell_type": "code",
   "execution_count": 7,
   "metadata": {},
   "outputs": [],
   "source": [
    "def getAction(s,episilon):\n",
    "    if np.random.random()<episilon:\n",
    "        return np.random.randint(2)\n",
    "    else:\n",
    "        optimal_action=np.argmax(dqn.predict([s.reshape(1,-1),np.ones((1,2))]),axis=1)[0]\n",
    "        return optimal_action"
   ]
  },
  {
   "cell_type": "code",
   "execution_count": 8,
   "metadata": {},
   "outputs": [],
   "source": [
    "env=gym.make('CartPole-v0')\n",
    "env._max_episode_steps=200\n",
    "memory=replayBuffer(100000)"
   ]
  },
  {
   "cell_type": "code",
   "execution_count": 9,
   "metadata": {},
   "outputs": [],
   "source": [
    "curr_state=env.reset()\n",
    "for _ in range(50000):\n",
    "    act=env.action_space.sample()\n",
    "    next_state,reward,done,info=env.step(act)\n",
    "    memory.push(curr_state,act,reward,next_state,not done)\n",
    "    \n",
    "    if done:\n",
    "        curr_state=env.reset()\n",
    "    else:\n",
    "        curr_state=next_state"
   ]
  },
  {
   "cell_type": "code",
   "execution_count": null,
   "metadata": {},
   "outputs": [],
   "source": [
    "episode_reward=0\n",
    "curr_state=env.reset()\n",
    "\n",
    "for step in range(1000000):\n",
    "    act=getAction(curr_state,get_episilon(step,steady_episilon=0.01, steady_step=100000))\n",
    "    next_state,reward,done,info=env.step(act)\n",
    "    episode_reward+=reward\n",
    "    \n",
    "    memory.push(curr_state,act,reward,next_state,not done)\n",
    "    \n",
    "    if done:\n",
    "        curr_state=env.reset()\n",
    "        print('On step {} episode reward {}'.format(step,episode_reward))\n",
    "        episode_reward=0\n",
    "    else:\n",
    "        curr_state=next_state\n",
    "        \n",
    "    if step%10000==0:\n",
    "        hard_copy(dqn,fixed_dqn)\n",
    "        \n",
    "    if step%4==0:\n",
    "        s,a,r,s_,nd=memory.sample(32)\n",
    "        train_on_batch(s,a,r,s_,nd)\n"
   ]
  },
  {
   "cell_type": "code",
   "execution_count": 11,
   "metadata": {},
   "outputs": [
    {
     "name": "stdout",
     "output_type": "stream",
     "text": [
      "On episode 0 reward 200.0\n",
      "On episode 1 reward 200.0\n",
      "On episode 2 reward 200.0\n",
      "On episode 3 reward 200.0\n",
      "On episode 4 reward 200.0\n",
      "On episode 5 reward 200.0\n",
      "On episode 6 reward 200.0\n",
      "On episode 7 reward 200.0\n",
      "On episode 8 reward 200.0\n",
      "On episode 9 reward 200.0\n"
     ]
    }
   ],
   "source": [
    "for episode in range(10):\n",
    "    episode_reward=0\n",
    "    curr_state=env.reset()\n",
    "    done=False\n",
    "    while not done:\n",
    "        env.render()\n",
    "        act=getAction(curr_state,0.01)\n",
    "        next_state,reward,done,info=env.step(act)\n",
    "        episode_reward+=reward\n",
    "        curr_state=next_state\n",
    "    print(\"On episode {} reward {}\".format(episode,episode_reward))\n",
    "env.close()"
   ]
  },
  {
   "cell_type": "code",
   "execution_count": null,
   "metadata": {},
   "outputs": [],
   "source": []
  }
 ],
 "metadata": {
  "kernelspec": {
   "display_name": "Python 3",
   "language": "python",
   "name": "python3"
  },
  "language_info": {
   "codemirror_mode": {
    "name": "ipython",
    "version": 3
   },
   "file_extension": ".py",
   "mimetype": "text/x-python",
   "name": "python",
   "nbconvert_exporter": "python",
   "pygments_lexer": "ipython3",
   "version": "3.6.9"
  }
 },
 "nbformat": 4,
 "nbformat_minor": 2
}

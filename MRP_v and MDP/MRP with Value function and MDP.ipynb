{
 "cells": [
  {
   "cell_type": "markdown",
   "metadata": {},
   "source": [
    "### MRP With Value Function"
   ]
  },
  {
   "cell_type": "markdown",
   "metadata": {},
   "source": [
    "<img src=\"new_mrp.png\">"
   ]
  },
  {
   "cell_type": "code",
   "execution_count": 1,
   "metadata": {},
   "outputs": [],
   "source": [
    "import numpy as np \n",
    "import tensorflow_core as tf"
   ]
  },
  {
   "cell_type": "code",
   "execution_count": 2,
   "metadata": {},
   "outputs": [],
   "source": [
    "\n",
    "Ptr=np.array([\n",
    "    [0.3,0.5,0.2],\n",
    "    [0.1,0.7,0.2],\n",
    "    [0.4,0.3,0.3]\n",
    "])\n",
    "R=np.array([\n",
    "    [-1],\n",
    "    [5],\n",
    "    [-2]\n",
    "])\n",
    "\n",
    "\n",
    "gamma=0.9"
   ]
  },
  {
   "cell_type": "markdown",
   "metadata": {},
   "source": [
    "### Analytic solution"
   ]
  },
  {
   "cell_type": "code",
   "execution_count": 3,
   "metadata": {},
   "outputs": [],
   "source": [
    "def get_analytic(Ptr,R,gamma):\n",
    "    idt=np.identity(Ptr.shape[0])\n",
    "    # Equation:  V=(I-gamma*P)^-1*R\n",
    "    \n",
    "    Val= np.matmul(np.matrix(idt-gamma*Ptr).I,R)\n",
    "    print(\"Value:\")\n",
    "    print(Val)\n",
    "    "
   ]
  },
  {
   "cell_type": "code",
   "execution_count": 4,
   "metadata": {},
   "outputs": [
    {
     "name": "stdout",
     "output_type": "stream",
     "text": [
      "Value:\n",
      "[[18.34360761]\n",
      " [25.66068078]\n",
      " [15.79737336]]\n"
     ]
    }
   ],
   "source": [
    "get_analytic(Ptr,R,gamma)"
   ]
  },
  {
   "cell_type": "markdown",
   "metadata": {},
   "source": [
    "### Dynamic Approach Solution"
   ]
  },
  {
   "cell_type": "code",
   "execution_count": 5,
   "metadata": {},
   "outputs": [],
   "source": [
    "def get_dynamic_soln(Ptr,R,gamma,epsilon):\n",
    "    V_curr=np.zeros((Ptr.shape[0],1))\n",
    "    V_prev=np.ones((Ptr.shape[0],1))\n",
    "    \n",
    "    while np.sqrt(np.square(sum(V_curr-V_prev)))>epsilon:\n",
    "        V_prev=V_curr\n",
    "        V_curr= R+gamma*np.matmul(Ptr,V_curr)\n",
    "        \n",
    "    print('Value:')\n",
    "    print(V_curr)"
   ]
  },
  {
   "cell_type": "code",
   "execution_count": 6,
   "metadata": {},
   "outputs": [
    {
     "name": "stdout",
     "output_type": "stream",
     "text": [
      "Value:\n",
      "[[18.31485994]\n",
      " [25.63193311]\n",
      " [15.76862569]]\n"
     ]
    }
   ],
   "source": [
    "\n",
    "Ptr=np.array([\n",
    "    [0.3,0.5,0.2],\n",
    "    [0.1,0.7,0.2],\n",
    "    [0.4,0.3,0.3]\n",
    "])\n",
    "R=np.array([\n",
    "    [-1],\n",
    "    [5],\n",
    "    [-2]\n",
    "])\n",
    "\n",
    "\n",
    "gamma=0.9\n",
    "epsilon=0.01\n",
    "\n",
    "get_dynamic_soln(Ptr,R,gamma,epsilon)"
   ]
  },
  {
   "cell_type": "code",
   "execution_count": 7,
   "metadata": {},
   "outputs": [
    {
     "name": "stdout",
     "output_type": "stream",
     "text": [
      "Value:\n",
      "[[18.34332882]\n",
      " [25.660402  ]\n",
      " [15.79709457]]\n"
     ]
    }
   ],
   "source": [
    "\n",
    "Ptr=np.array([\n",
    "    [0.3,0.5,0.2],\n",
    "    [0.1,0.7,0.2],\n",
    "    [0.4,0.3,0.3]\n",
    "])\n",
    "R=np.array([\n",
    "    [-1],\n",
    "    [5],\n",
    "    [-2]\n",
    "])\n",
    "\n",
    "\n",
    "gamma=0.9\n",
    "epsilon=0.0001\n",
    "\n",
    "get_dynamic_soln(Ptr,R,gamma,epsilon)"
   ]
  },
  {
   "cell_type": "markdown",
   "metadata": {},
   "source": [
    "### Dynamics of MDP"
   ]
  },
  {
   "cell_type": "markdown",
   "metadata": {},
   "source": [
    "<img src=\"MDP_statement.png\">\n"
   ]
  },
  {
   "cell_type": "code",
   "execution_count": 8,
   "metadata": {},
   "outputs": [],
   "source": [
    "Ptr=np.array([\n",
    "    [\n",
    "        [0,1,0,0,0,0],\n",
    "        [0,1,0,0,0,0],\n",
    "        [0,0,1,0,0,0],\n",
    "        [0,0,0,1,0,0],\n",
    "        [0,0,0,0,1,0],\n",
    "        [0,0,0,0,0,1],\n",
    "    ],\n",
    "    [\n",
    "        [0,0,1,0,0,0],\n",
    "        [0,0,0,1,0,0],\n",
    "        [0,0,0,0,1,0],\n",
    "        [0,0,0,0,0,1],\n",
    "        [0,0,0,0,1,0],\n",
    "        [0,0,0,0,0,1],\n",
    "    ],\n",
    "    [\n",
    "        [1,0,0,0,0,0],\n",
    "        [1,0,0,0,0,0],\n",
    "        [0,0,1,0,0,0],\n",
    "        [0,0,0,1,0,0],\n",
    "        [0,0,0,0,1,0],\n",
    "        [0,0,0,0,0,1],\n",
    "    ],\n",
    "    [\n",
    "        [1,0,0,0,0,0],\n",
    "        [0,1,0,0,0,0],\n",
    "        [1,0,0,0,0,0],\n",
    "        [0,1,0,0,0,0],\n",
    "        [0,0,1,0,0,0],\n",
    "        [0,0,0,1,0,0],\n",
    "    ],\n",
    "])"
   ]
  },
  {
   "cell_type": "code",
   "execution_count": 9,
   "metadata": {},
   "outputs": [],
   "source": [
    "R=np.array([\n",
    "    [\n",
    "        [-1],\n",
    "        [-1],\n",
    "        [-1],\n",
    "        [-1],\n",
    "        [-1],\n",
    "        [10]\n",
    "    ],\n",
    "    [\n",
    "        [-1],\n",
    "        [-1],\n",
    "        [-1],\n",
    "        [10],\n",
    "        [-1],\n",
    "        [10]\n",
    "    ],\n",
    "    [\n",
    "        [-1],\n",
    "        [-1],\n",
    "        [-1],\n",
    "        [-1],\n",
    "        [-1],\n",
    "        [10]\n",
    "    ],\n",
    "    [\n",
    "        [-1],\n",
    "        [-1],\n",
    "        [-1],\n",
    "        [-1],\n",
    "        [-1],\n",
    "        [-1]\n",
    "    ],\n",
    "])"
   ]
  },
  {
   "cell_type": "code",
   "execution_count": null,
   "metadata": {},
   "outputs": [],
   "source": []
  }
 ],
 "metadata": {
  "kernelspec": {
   "display_name": "Python 3",
   "language": "python",
   "name": "python3"
  },
  "language_info": {
   "codemirror_mode": {
    "name": "ipython",
    "version": 3
   },
   "file_extension": ".py",
   "mimetype": "text/x-python",
   "name": "python",
   "nbconvert_exporter": "python",
   "pygments_lexer": "ipython3",
   "version": "3.6.9"
  }
 },
 "nbformat": 4,
 "nbformat_minor": 2
}

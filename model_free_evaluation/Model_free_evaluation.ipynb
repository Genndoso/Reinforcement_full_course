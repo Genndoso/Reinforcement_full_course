{
 "cells": [
  {
   "cell_type": "markdown",
   "metadata": {},
   "source": [
    "### Policy Evaluation: Model Free"
   ]
  },
  {
   "cell_type": "markdown",
   "metadata": {},
   "source": [
    "<img src=\"question.jpeg\">\n"
   ]
  },
  {
   "cell_type": "code",
   "execution_count": 1,
   "metadata": {},
   "outputs": [
    {
     "name": "stdout",
     "output_type": "stream",
     "text": [
      "pygame 1.9.6\n",
      "Hello from the pygame community. https://www.pygame.org/contribute.html\n"
     ]
    }
   ],
   "source": [
    "from gridworld import GridWorld\n",
    "import numpy as np\n",
    "import time"
   ]
  },
  {
   "cell_type": "code",
   "execution_count": 2,
   "metadata": {},
   "outputs": [],
   "source": [
    "world=\\\n",
    "    \"\"\"\n",
    "    wwwwwwwwww\n",
    "    wa       w\n",
    "    w    wwwww\n",
    "    wwww     w\n",
    "    w        w\n",
    "    w        w\n",
    "    w        w\n",
    "    w g  wwwww\n",
    "    w        w\n",
    "    wwwwwwwwww\n",
    "    \"\"\"\n",
    "env=GridWorld(world)\n",
    "env._max_epi_step=200"
   ]
  },
  {
   "cell_type": "code",
   "execution_count": 3,
   "metadata": {},
   "outputs": [],
   "source": [
    "env.render()"
   ]
  },
  {
   "cell_type": "code",
   "execution_count": 4,
   "metadata": {},
   "outputs": [],
   "source": [
    "env.close()"
   ]
  },
  {
   "cell_type": "markdown",
   "metadata": {},
   "source": [
    "<img src=\"problem_window.png\">"
   ]
  },
  {
   "cell_type": "code",
   "execution_count": 5,
   "metadata": {},
   "outputs": [],
   "source": [
    "policy=np.random.randint(0,4,env.state_count)"
   ]
  },
  {
   "cell_type": "code",
   "execution_count": 6,
   "metadata": {},
   "outputs": [
    {
     "data": {
      "text/plain": [
       "array([2, 3, 3, 3, 3, 2, 3, 1, 3, 0, 3, 2, 3, 3, 1, 2, 1, 0, 2, 2, 0, 3,\n",
       "       0, 0, 3, 3, 1, 2, 0, 3, 2, 1, 1, 3, 3, 1, 2, 3, 2, 1, 1, 2, 1, 1,\n",
       "       1, 3, 1, 1, 0, 0, 0, 0, 3])"
      ]
     },
     "execution_count": 6,
     "metadata": {},
     "output_type": "execute_result"
    }
   ],
   "source": [
    "policy"
   ]
  },
  {
   "cell_type": "markdown",
   "metadata": {},
   "source": [
    "### Monte-Carlo Policy Evaluation"
   ]
  },
  {
   "cell_type": "markdown",
   "metadata": {},
   "source": [
    "#### Offline Policy evaluation"
   ]
  },
  {
   "cell_type": "code",
   "execution_count": 7,
   "metadata": {},
   "outputs": [],
   "source": [
    "def get_episodes(policy):\n",
    "    episodes=[]\n",
    "    curr_state=env.reset()\n",
    "    done=False\n",
    "    \n",
    "    while not done:\n",
    "        action=policy[curr_state]\n",
    "        next_state,reward,done,info=env.step(action)\n",
    "        episodes.append((curr_state,reward))\n",
    "        curr_state=next_state\n",
    "        \n",
    "    return episodes\n",
    "    "
   ]
  },
  {
   "cell_type": "code",
   "execution_count": 8,
   "metadata": {},
   "outputs": [],
   "source": [
    "episodes=get_episodes(policy)"
   ]
  },
  {
   "cell_type": "code",
   "execution_count": 9,
   "metadata": {},
   "outputs": [
    {
     "data": {
      "text/plain": [
       "201"
      ]
     },
     "execution_count": 9,
     "metadata": {},
     "output_type": "execute_result"
    }
   ],
   "source": [
    "len(episodes)"
   ]
  },
  {
   "cell_type": "code",
   "execution_count": 10,
   "metadata": {},
   "outputs": [],
   "source": [
    "def get_returns(episode):\n",
    "    Gt=[]\n",
    "    for i,(s,r) in enumerate(episode):\n",
    "        sum_1=r\n",
    "        future=episode[i+1:]   ###From one to last\n",
    "        for j,(s_f,r_f) in enumerate(future):\n",
    "            sum_1=sum_1+(0.99**(j+1)*r_f)\n",
    "        Gt.append((s,sum_1))   ##Saving sum of all possible rewards for a particular state\\\n",
    "    return Gt"
   ]
  },
  {
   "cell_type": "code",
   "execution_count": 11,
   "metadata": {},
   "outputs": [],
   "source": [
    "experience=[get_returns(get_episodes(policy)) for i in range(1000)]"
   ]
  },
  {
   "cell_type": "code",
   "execution_count": 12,
   "metadata": {},
   "outputs": [],
   "source": [
    "G_total=np.zeros(env.state_count)  \n",
    "N_total=np.zeros(env.state_count) "
   ]
  },
  {
   "cell_type": "code",
   "execution_count": 13,
   "metadata": {},
   "outputs": [
    {
     "data": {
      "text/plain": [
       "1000"
      ]
     },
     "execution_count": 13,
     "metadata": {},
     "output_type": "execute_result"
    }
   ],
   "source": [
    "len(experience)"
   ]
  },
  {
   "cell_type": "markdown",
   "metadata": {},
   "source": [
    "### For every Visit"
   ]
  },
  {
   "cell_type": "code",
   "execution_count": 14,
   "metadata": {},
   "outputs": [
    {
     "name": "stderr",
     "output_type": "stream",
     "text": [
      "/home/abhijit/.local/lib/python3.6/site-packages/ipykernel_launcher.py:6: RuntimeWarning: invalid value encountered in true_divide\n",
      "  \n"
     ]
    }
   ],
   "source": [
    "for ep in experience: \n",
    "    for s,G in ep:\n",
    "        G_total[s]+=G\n",
    "        N_total[s]+=1\n",
    "        \n",
    "V=G_total/N_total\n",
    "\n",
    "        "
   ]
  },
  {
   "cell_type": "code",
   "execution_count": 15,
   "metadata": {},
   "outputs": [
    {
     "data": {
      "text/plain": [
       "array([-65.79310333, -59.65157961, -55.20022204, -52.22472432,\n",
       "       -49.4485016 , -48.5127885 , -42.7798297 , -39.16084703,\n",
       "       -65.64843289, -58.55140148, -55.51843199, -52.50676132,\n",
       "       -51.623454  , -46.21130525, -50.33909952, -54.40860588,\n",
       "       -47.336966  , -37.79447325, -40.46779492, -51.30226166,\n",
       "       -53.06919078, -51.92335275, -55.45524803, -51.74580787,\n",
       "       -47.90666584, -32.04353368, -34.38883569, -60.52133558,\n",
       "       -53.97824806, -54.29078446, -57.76069737, -45.05271693,\n",
       "       -51.18924734, -31.44082065, -25.06050503, -46.11206997,\n",
       "       -46.65094927, -46.02980948, -39.83036137, -45.81979561,\n",
       "       -48.06673296, -36.7109775 ,          nan, -44.16514498,\n",
       "                nan, -37.34386773, -37.97042905, -41.77592628,\n",
       "                nan,          nan,          nan,          nan,\n",
       "                nan])"
      ]
     },
     "execution_count": 15,
     "metadata": {},
     "output_type": "execute_result"
    }
   ],
   "source": [
    "V"
   ]
  },
  {
   "cell_type": "code",
   "execution_count": 16,
   "metadata": {},
   "outputs": [
    {
     "data": {
      "text/plain": [
       "array([4.5447e+04, 3.2765e+04, 5.2855e+04, 2.4634e+04, 2.1511e+04,\n",
       "       1.6830e+03, 1.1520e+03, 1.2620e+03, 3.6520e+03, 3.1330e+03,\n",
       "       8.7040e+03, 2.5810e+03, 2.0100e+02, 1.8000e+02, 3.0000e+01,\n",
       "       1.8000e+01, 1.8800e+02, 9.0000e+01, 8.3000e+01, 8.0000e+00,\n",
       "       1.7000e+01, 3.9000e+01, 3.2000e+01, 4.3000e+01, 2.1600e+02,\n",
       "       1.6000e+01, 2.1000e+01, 2.0000e+00, 4.0000e+00, 1.4000e+01,\n",
       "       2.0000e+00, 1.2000e+01, 3.1000e+01, 4.0000e+00, 1.7000e+01,\n",
       "       1.0000e+00, 1.0000e+00, 9.0000e+00, 1.3000e+01, 1.3600e+02,\n",
       "       1.6400e+02, 1.0000e+00, 0.0000e+00, 2.0000e+00, 0.0000e+00,\n",
       "       1.0000e+00, 1.0000e+00, 1.1000e+01, 0.0000e+00, 0.0000e+00,\n",
       "       0.0000e+00, 0.0000e+00, 0.0000e+00])"
      ]
     },
     "execution_count": 16,
     "metadata": {},
     "output_type": "execute_result"
    }
   ],
   "source": [
    "N_total"
   ]
  },
  {
   "cell_type": "markdown",
   "metadata": {},
   "source": [
    "### For FIrst visit"
   ]
  },
  {
   "cell_type": "code",
   "execution_count": 17,
   "metadata": {},
   "outputs": [
    {
     "name": "stderr",
     "output_type": "stream",
     "text": [
      "/home/abhijit/.local/lib/python3.6/site-packages/ipykernel_launcher.py:10: RuntimeWarning: invalid value encountered in true_divide\n",
      "  # Remove the CWD from sys.path while we load stuff.\n"
     ]
    }
   ],
   "source": [
    "for ep in experience: \n",
    "    seen=[]\n",
    "    for s,G in ep:\n",
    "        if s not in seen:\n",
    "            \n",
    "            G_total[s]+=G\n",
    "            N_total[s]+=1\n",
    "            seen.append(s)\n",
    "        \n",
    "V=G_total/N_total\n",
    "\n",
    "        "
   ]
  },
  {
   "cell_type": "code",
   "execution_count": 18,
   "metadata": {},
   "outputs": [
    {
     "name": "stderr",
     "output_type": "stream",
     "text": [
      "/home/abhijit/.local/lib/python3.6/site-packages/ipykernel_launcher.py:1: RuntimeWarning: invalid value encountered in true_divide\n",
      "  \"\"\"Entry point for launching an IPython kernel.\n"
     ]
    }
   ],
   "source": [
    "V=G_total/N_total"
   ]
  },
  {
   "cell_type": "code",
   "execution_count": 19,
   "metadata": {},
   "outputs": [
    {
     "data": {
      "text/plain": [
       "array([-66.24389506, -60.37416803, -55.68114355, -53.00740476,\n",
       "       -49.80580146, -50.21830037, -42.99921988, -39.43298195,\n",
       "       -68.04463881, -62.21967081, -57.85334074, -55.48681329,\n",
       "       -51.90185405, -47.35722016, -52.28711331, -57.42148104,\n",
       "       -47.88203673, -38.24177017, -40.85165623, -48.81681641,\n",
       "       -54.05687658, -53.32326   , -57.57886578, -54.00125489,\n",
       "       -48.56340729, -34.4025413 , -34.86948567, -65.60033552,\n",
       "       -53.97824806, -56.04383889, -57.76069737, -46.50097869,\n",
       "       -52.12151021, -36.89362996, -24.85608703, -46.11206997,\n",
       "       -46.65094927, -45.11408301, -41.68994653, -46.60327574,\n",
       "       -48.40255458, -36.7109775 ,          nan, -44.63267913,\n",
       "                nan, -37.34386773, -37.97042905, -42.04609298,\n",
       "                nan,          nan,          nan,          nan,\n",
       "                nan])"
      ]
     },
     "execution_count": 19,
     "metadata": {},
     "output_type": "execute_result"
    }
   ],
   "source": [
    "V"
   ]
  },
  {
   "cell_type": "markdown",
   "metadata": {},
   "source": [
    "#### Online Evauation"
   ]
  },
  {
   "cell_type": "code",
   "execution_count": 20,
   "metadata": {},
   "outputs": [],
   "source": [
    "V=np.zeros(env.state_count)  \n",
    "N_total=np.zeros(env.state_count) "
   ]
  },
  {
   "cell_type": "markdown",
   "metadata": {},
   "source": [
    "### For Every Visit"
   ]
  },
  {
   "cell_type": "code",
   "execution_count": 21,
   "metadata": {},
   "outputs": [],
   "source": [
    "for ep in experience: \n",
    "    for s,G in ep:\n",
    "        V[s]=V[s]+(1/(N_total[s]+1))*(G-V[s])\n",
    "        N_total[s]+=1\n",
    "        \n",
    "\n",
    "        "
   ]
  },
  {
   "cell_type": "code",
   "execution_count": 22,
   "metadata": {},
   "outputs": [
    {
     "data": {
      "text/plain": [
       "array([-65.79310333, -59.65157961, -55.20022204, -52.22472432,\n",
       "       -49.4485016 , -48.5127885 , -42.7798297 , -39.16084703,\n",
       "       -65.64843289, -58.55140148, -55.51843199, -52.50676132,\n",
       "       -51.623454  , -46.21130525, -50.33909952, -54.40860588,\n",
       "       -47.336966  , -37.79447325, -40.46779492, -51.30226166,\n",
       "       -53.06919078, -51.92335275, -55.45524803, -51.74580787,\n",
       "       -47.90666584, -32.04353368, -34.38883569, -60.52133558,\n",
       "       -53.97824806, -54.29078446, -57.76069737, -45.05271693,\n",
       "       -51.18924734, -31.44082065, -25.06050503, -46.11206997,\n",
       "       -46.65094927, -46.02980948, -39.83036137, -45.81979561,\n",
       "       -48.06673296, -36.7109775 ,   0.        , -44.16514498,\n",
       "         0.        , -37.34386773, -37.97042905, -41.77592628,\n",
       "         0.        ,   0.        ,   0.        ,   0.        ,\n",
       "         0.        ])"
      ]
     },
     "execution_count": 22,
     "metadata": {},
     "output_type": "execute_result"
    }
   ],
   "source": [
    "V"
   ]
  },
  {
   "cell_type": "code",
   "execution_count": 23,
   "metadata": {},
   "outputs": [],
   "source": [
    "V=np.zeros(env.state_count)  \n",
    "N_total=np.zeros(env.state_count) "
   ]
  },
  {
   "cell_type": "markdown",
   "metadata": {},
   "source": [
    "### For First Visit"
   ]
  },
  {
   "cell_type": "code",
   "execution_count": 25,
   "metadata": {},
   "outputs": [],
   "source": [
    "for ep in experience: \n",
    "    seen=[]\n",
    "    for s,G in ep:\n",
    "        if s not in seen:\n",
    "            V[s]=V[s]+(1/(N_total[s]+1))*(G-V[s])\n",
    "            N_total[s]+=1\n",
    "            seen.append(s)\n",
    "        \n",
    "\n",
    "        "
   ]
  },
  {
   "cell_type": "code",
   "execution_count": 26,
   "metadata": {},
   "outputs": [
    {
     "data": {
      "text/plain": [
       "array([-86.73102671, -84.07347681, -81.12569448, -72.82297526,\n",
       "       -60.20617668, -55.80269043, -45.57817384, -47.60998854,\n",
       "       -78.09164686, -74.25389891, -78.2785123 , -64.3378077 ,\n",
       "       -52.28777411, -57.179348  , -58.13115469, -68.2678316 ,\n",
       "       -59.26795867, -51.66067771, -51.47181934, -42.18896241,\n",
       "       -55.25620934, -56.53481195, -65.1295067 , -64.7772795 ,\n",
       "       -64.32520196, -46.98391528, -38.23403554, -75.7583354 ,\n",
       "       -53.97824806, -59.54994773, -57.76069737, -49.3975022 ,\n",
       "       -55.73402882, -47.79924859, -23.69771839, -46.11206997,\n",
       "       -46.65094927, -43.9367204 , -44.71177243, -59.92243798,\n",
       "       -55.2868978 , -36.7109775 ,   0.        , -45.56774744,\n",
       "         0.        , -37.34386773, -37.97042905, -45.01792671,\n",
       "         0.        ,   0.        ,   0.        ,   0.        ,\n",
       "         0.        ])"
      ]
     },
     "execution_count": 26,
     "metadata": {},
     "output_type": "execute_result"
    }
   ],
   "source": [
    "V"
   ]
  },
  {
   "cell_type": "markdown",
   "metadata": {},
   "source": [
    "### TD Learning "
   ]
  },
  {
   "cell_type": "code",
   "execution_count": 27,
   "metadata": {},
   "outputs": [],
   "source": [
    "def get_states(policy):\n",
    "    curr_state=env.reset()\n",
    "    while True:\n",
    "        action=policy[curr_state]\n",
    "        next_state,reward,done, info=env.step(action)\n",
    "        yield(curr_state,reward,next_state)\n",
    "        if done:\n",
    "            curr_state=env.reset()\n",
    "        else:\n",
    "            curr_state=next_state"
   ]
  },
  {
   "cell_type": "code",
   "execution_count": 28,
   "metadata": {},
   "outputs": [],
   "source": [
    "generator=get_states(policy)"
   ]
  },
  {
   "cell_type": "code",
   "execution_count": 29,
   "metadata": {},
   "outputs": [
    {
     "data": {
      "text/plain": [
       "<generator object get_states at 0x7f1c73970ba0>"
      ]
     },
     "execution_count": 29,
     "metadata": {},
     "output_type": "execute_result"
    }
   ],
   "source": [
    "generator"
   ]
  },
  {
   "cell_type": "code",
   "execution_count": 30,
   "metadata": {},
   "outputs": [],
   "source": [
    "alpha=0.001\n",
    "gamma=0.99\n",
    "v=np.zeros(env.state_count)"
   ]
  },
  {
   "cell_type": "code",
   "execution_count": 31,
   "metadata": {},
   "outputs": [],
   "source": [
    "for step in range(100000):\n",
    "    s,r,s_prime=next(generator)\n",
    "    v[s]=v[s]+alpha*((r+gamma*v[s_prime])-v[s])"
   ]
  },
  {
   "cell_type": "code",
   "execution_count": 32,
   "metadata": {},
   "outputs": [
    {
     "data": {
      "text/plain": [
       "array([-1.33785740e+01, -1.22713570e+01, -1.36420089e+01, -1.01302412e+01,\n",
       "       -8.81320313e+00, -2.92625865e+00, -6.76350099e-01, -6.97991255e-01,\n",
       "       -7.73348913e+00, -6.06481679e+00, -1.09631577e+01, -4.89132828e+00,\n",
       "       -2.18400550e-01, -1.07452047e-01, -1.29735602e-02, -5.01962838e-03,\n",
       "       -3.41432513e-02,  0.00000000e+00,  0.00000000e+00,  0.00000000e+00,\n",
       "       -9.04970198e-03, -1.95004960e-02, -1.09828725e-02, -9.09697556e-03,\n",
       "       -4.17501783e-02,  0.00000000e+00,  0.00000000e+00,  0.00000000e+00,\n",
       "        0.00000000e+00, -2.01506385e-03, -1.99999294e-03, -2.02173719e-03,\n",
       "       -8.09245801e-03,  0.00000000e+00,  0.00000000e+00,  0.00000000e+00,\n",
       "        0.00000000e+00,  0.00000000e+00,  0.00000000e+00, -3.00123880e-02,\n",
       "       -7.08813469e-02,  0.00000000e+00,  0.00000000e+00,  0.00000000e+00,\n",
       "        0.00000000e+00,  0.00000000e+00,  0.00000000e+00,  0.00000000e+00,\n",
       "        0.00000000e+00,  0.00000000e+00,  0.00000000e+00,  0.00000000e+00,\n",
       "        0.00000000e+00])"
      ]
     },
     "execution_count": 32,
     "metadata": {},
     "output_type": "execute_result"
    }
   ],
   "source": [
    "v"
   ]
  },
  {
   "cell_type": "code",
   "execution_count": null,
   "metadata": {},
   "outputs": [],
   "source": []
  },
  {
   "cell_type": "code",
   "execution_count": null,
   "metadata": {},
   "outputs": [],
   "source": []
  }
 ],
 "metadata": {
  "kernelspec": {
   "display_name": "Python 3",
   "language": "python",
   "name": "python3"
  },
  "language_info": {
   "codemirror_mode": {
    "name": "ipython",
    "version": 3
   },
   "file_extension": ".py",
   "mimetype": "text/x-python",
   "name": "python",
   "nbconvert_exporter": "python",
   "pygments_lexer": "ipython3",
   "version": "3.6.9"
  }
 },
 "nbformat": 4,
 "nbformat_minor": 2
}

{
 "cells": [
  {
   "cell_type": "markdown",
   "metadata": {},
   "source": [
    "### MDP with Policy Iteration"
   ]
  },
  {
   "cell_type": "markdown",
   "metadata": {},
   "source": [
    "<img src=\"MDP_Policy_iteration.png\">"
   ]
  },
  {
   "cell_type": "code",
   "execution_count": 92,
   "metadata": {},
   "outputs": [],
   "source": [
    "import numpy as np\n",
    "import itertools\n",
    "import matplotlib.pyplot as plt"
   ]
  },
  {
   "cell_type": "code",
   "execution_count": 93,
   "metadata": {},
   "outputs": [],
   "source": [
    "def get_rewards_and_state(policy,P_tr,R_tr,states,gamma):\n",
    "    P=P_tr[policy,states,:]\n",
    "    R=R_tr[policy,states,:]\n",
    "    \n",
    "    s=np.matmul(np.matrix(np.identity(len(states))-gamma*P).I,R).sum()\n",
    "    return policy,s\n",
    "    "
   ]
  },
  {
   "cell_type": "code",
   "execution_count": 94,
   "metadata": {},
   "outputs": [],
   "source": [
    "def generate_policies(actions,states):\n",
    "    policies=list(itertools.product(actions,repeat=len(states)))\n",
    "    return policies"
   ]
  },
  {
   "cell_type": "code",
   "execution_count": 95,
   "metadata": {},
   "outputs": [],
   "source": [
    "def get_results(policies,P_tr,R_tr,states,gamma):\n",
    "    results=[]\n",
    "    for policy in policies:\n",
    "        results.append(get_rewards_and_state(policy,P_tr,R_tr,states,gamma))\n",
    "    #print(results)\n",
    "    #best_pol=1\n",
    "    best_pol=sorted(results,key=lambda e:e[1])[-1]\n",
    "    fig=plt.figure(figsize=(15,5))\n",
    "    ax=fig.add_subplot(111)\n",
    "    plt.plot([i for i,e in enumerate(results)],[e[1] for e in results])\n",
    "    return best_pol"
   ]
  },
  {
   "cell_type": "code",
   "execution_count": 96,
   "metadata": {},
   "outputs": [],
   "source": [
    "def caller(actions,states,P_tr,R_tr,gamma):\n",
    "    policies=generate_policies(actions,states)\n",
    "    best_pol=get_results(policies,P_tr,R_tr,states,gamma)\n",
    "    \n",
    "    return best_pol"
   ]
  },
  {
   "cell_type": "code",
   "execution_count": 97,
   "metadata": {},
   "outputs": [],
   "source": [
    "P_tr=np.array([\n",
    "    [\n",
    "        [0,1,0,0,0,0],\n",
    "        [0,1,0,0,0,0],\n",
    "        [0,0,1,0,0,0],\n",
    "        [0,0,0,0,1,0],\n",
    "        [0,0,0,0,0,1],\n",
    "        [0,0,0,0,0,1],\n",
    "    ],\n",
    "    [\n",
    "        [0,0,0,1,0,0],\n",
    "        [0,1,0,0,0,0],\n",
    "        [0,0,0,0,0,1],\n",
    "        [0,0,0,1,0,0],\n",
    "        [0,0,0,0,1,0],\n",
    "        [0,0,0,0,0,1],\n",
    "    ],\n",
    "    [\n",
    "        [1,0,0,0,0,0],\n",
    "        [1,0,0,0,0,0],\n",
    "        [0,0,1,0,0,0],\n",
    "        [0,0,0,1,0,0],\n",
    "        [0,0,0,1,0,0],\n",
    "        [0,0,0,0,1,0],\n",
    "    ],\n",
    "    [\n",
    "        [1,0,0,0,0,0],\n",
    "        [0,1,0,0,0,0],\n",
    "        [0,0,1,0,0,0],\n",
    "        [1,0,0,0,0,0],\n",
    "        [0,0,0,0,1,0],\n",
    "        [0,0,1,0,0,0],\n",
    "    ],\n",
    "    \n",
    "])"
   ]
  },
  {
   "cell_type": "code",
   "execution_count": 98,
   "metadata": {},
   "outputs": [],
   "source": [
    "R_tr=np.array([\n",
    "    [\n",
    "        [-1],\n",
    "        [-1],\n",
    "        [10],\n",
    "        [-1],\n",
    "        [-1],\n",
    "        [-1]\n",
    "    ],\n",
    "    [\n",
    "        [-1],\n",
    "        [-1],\n",
    "        [-1],\n",
    "        [-1],\n",
    "        [-1],\n",
    "        [-1]\n",
    "    ],\n",
    "    [\n",
    "        [-1],\n",
    "        [-1],\n",
    "        [10],\n",
    "        [-1],\n",
    "        [-1],\n",
    "        [-1]\n",
    "    ],\n",
    "    [\n",
    "        [-1],\n",
    "        [-1],\n",
    "        [-1],\n",
    "        [-1],\n",
    "        [-1],\n",
    "        [10]\n",
    "    ],\n",
    "])"
   ]
  },
  {
   "cell_type": "code",
   "execution_count": 99,
   "metadata": {},
   "outputs": [],
   "source": [
    "gamma=0.9"
   ]
  },
  {
   "cell_type": "code",
   "execution_count": 100,
   "metadata": {},
   "outputs": [],
   "source": [
    "actions=[0,1,2,3]\n",
    "states=[0,1,2,3,4,5]\n"
   ]
  },
  {
   "cell_type": "code",
   "execution_count": 101,
   "metadata": {},
   "outputs": [
    {
     "data": {
      "image/png": "[encoded data removed]",
      "text/plain": [
       "<Figure size 1080x360 with 1 Axes>"
      ]
     },
     "metadata": {
      "needs_background": "light"
     },
     "output_type": "display_data"
    }
   ],
   "source": [
    "policy=caller(actions,states,P_tr,R_tr,gamma)"
   ]
  },
  {
   "cell_type": "code",
   "execution_count": 102,
   "metadata": {},
   "outputs": [
    {
     "data": {
      "text/plain": [
       "((1, 2, 2, 0, 0, 3), 500.46100000000007)"
      ]
     },
     "execution_count": 102,
     "metadata": {},
     "output_type": "execute_result"
    }
   ],
   "source": [
    "policy"
   ]
  },
  {
   "cell_type": "markdown",
   "metadata": {},
   "source": [
    "### Found Route"
   ]
  },
  {
   "cell_type": "markdown",
   "metadata": {},
   "source": [
    "MDP_Policy_iteration_route.png\n",
    "<img src=\"MDP_Policy_iteration.png\">"
   ]
  }
 ],
 "metadata": {
  "kernelspec": {
   "display_name": "Python 3",
   "language": "python",
   "name": "python3"
  },
  "language_info": {
   "codemirror_mode": {
    "name": "ipython",
    "version": 3
   },
   "file_extension": ".py",
   "mimetype": "text/x-python",
   "name": "python",
   "nbconvert_exporter": "python",
   "pygments_lexer": "ipython3",
   "version": "3.6.9"
  }
 },
 "nbformat": 4,
 "nbformat_minor": 2
}

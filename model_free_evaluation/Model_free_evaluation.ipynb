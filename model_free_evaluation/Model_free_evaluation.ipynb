{
 "cells": [
  {
   "cell_type": "markdown",
   "metadata": {},
   "source": [
    "### Policy Evaluation: Model Free"
   ]
  },
  {
   "cell_type": "markdown",
   "metadata": {},
   "source": [
    "<img src=\"question.jpeg\">\n"
   ]
  },
  {
   "cell_type": "code",
   "execution_count": 1,
   "metadata": {},
   "outputs": [
    {
     "name": "stdout",
     "output_type": "stream",
     "text": [
      "pygame 1.9.6\n",
      "Hello from the pygame community. https://www.pygame.org/contribute.html\n"
     ]
    }
   ],
   "source": [
    "from gridworld import GridWorld\n",
    "import numpy as np\n",
    "import time"
   ]
  },
  {
   "cell_type": "code",
   "execution_count": 5,
   "metadata": {},
   "outputs": [],
   "source": [
    "world=\\\n",
    "    \"\"\"\n",
    "    wwwwwwwwww\n",
    "    wa       w\n",
    "    w    wwwww\n",
    "    wwww     w\n",
    "    w        w\n",
    "    w        w\n",
    "    w        w\n",
    "    w g  wwwww\n",
    "    w        w\n",
    "    wwwwwwwwww\n",
    "    \"\"\"\n",
    "env=GridWorld(world)\n",
    "env._max_epi_step=200"
   ]
  },
  {
   "cell_type": "code",
   "execution_count": 6,
   "metadata": {},
   "outputs": [],
   "source": [
    "env.render()"
   ]
  },
  {
   "cell_type": "code",
   "execution_count": 7,
   "metadata": {},
   "outputs": [],
   "source": [
    "env.close()"
   ]
  },
  {
   "cell_type": "markdown",
   "metadata": {},
   "source": [
    "<img src=\"problem_window.png\">"
   ]
  },
  {
   "cell_type": "code",
   "execution_count": 8,
   "metadata": {},
   "outputs": [],
   "source": [
    "policy=np.random.randint(0,4,env.state_count)"
   ]
  },
  {
   "cell_type": "code",
   "execution_count": 9,
   "metadata": {},
   "outputs": [
    {
     "data": {
      "text/plain": [
       "array([2, 1, 3, 2, 0, 1, 3, 1, 0, 2, 0, 3, 0, 1, 3, 1, 2, 0, 2, 0, 2, 3,\n",
       "       2, 3, 0, 1, 1, 0, 2, 3, 0, 3, 0, 3, 2, 2, 2, 3, 1, 1, 2, 3, 1, 3,\n",
       "       3, 3, 3, 3, 3, 0, 2, 1, 0])"
      ]
     },
     "execution_count": 9,
     "metadata": {},
     "output_type": "execute_result"
    }
   ],
   "source": [
    "policy"
   ]
  },
  {
   "cell_type": "markdown",
   "metadata": {},
   "source": [
    "### Monte-Carlo Policy Evaluation"
   ]
  },
  {
   "cell_type": "markdown",
   "metadata": {},
   "source": [
    "#### Offline Policy evaluation"
   ]
  },
  {
   "cell_type": "code",
   "execution_count": 12,
   "metadata": {},
   "outputs": [],
   "source": [
    "def get_episodes(policy):\n",
    "    episodes=[]\n",
    "    curr_state=env.reset()\n",
    "    done=False\n",
    "    \n",
    "    while not done:\n",
    "        action=policy[curr_state]\n",
    "        next_state,reward,done,info=env.step(action)\n",
    "        episodes.append((curr_state,reward))\n",
    "        curr_state=next_state\n",
    "        \n",
    "    return episodes\n",
    "    "
   ]
  },
  {
   "cell_type": "code",
   "execution_count": 13,
   "metadata": {},
   "outputs": [],
   "source": [
    "episodes=get_episodes(policy)"
   ]
  },
  {
   "cell_type": "code",
   "execution_count": 15,
   "metadata": {},
   "outputs": [
    {
     "data": {
      "text/plain": [
       "201"
      ]
     },
     "execution_count": 15,
     "metadata": {},
     "output_type": "execute_result"
    }
   ],
   "source": [
    "len(episodes)"
   ]
  },
  {
   "cell_type": "code",
   "execution_count": 20,
   "metadata": {},
   "outputs": [],
   "source": [
    "def get_returns(episode):\n",
    "    Gt=[]\n",
    "    for i,(s,r) in enumerate(episode):\n",
    "        sum_1=r\n",
    "        future=episode[i+1:]   ###From one to last\n",
    "        for j,(s_f,r_f) in enumerate(future):\n",
    "            sum_1=sum_1+(0.99*(j+1)*r_f)\n",
    "        Gt.append((s,sum_1))   ##Saving sum of all possible rewards for a particular state\\\n",
    "    return Gt"
   ]
  },
  {
   "cell_type": "code",
   "execution_count": 21,
   "metadata": {},
   "outputs": [],
   "source": [
    "experience=[get_returns(get_episodes(policy)) for i in range(1000)]"
   ]
  },
  {
   "cell_type": "code",
   "execution_count": 23,
   "metadata": {},
   "outputs": [],
   "source": [
    "G_total=np.zeros(env.state_count)  \n",
    "N_total=np.zeros(env.state_count) "
   ]
  },
  {
   "cell_type": "code",
   "execution_count": 28,
   "metadata": {},
   "outputs": [
    {
     "data": {
      "text/plain": [
       "1000"
      ]
     },
     "execution_count": 28,
     "metadata": {},
     "output_type": "execute_result"
    }
   ],
   "source": [
    "len(experience)"
   ]
  },
  {
   "cell_type": "markdown",
   "metadata": {},
   "source": [
    "### For every Visit"
   ]
  },
  {
   "cell_type": "code",
   "execution_count": 25,
   "metadata": {},
   "outputs": [
    {
     "name": "stderr",
     "output_type": "stream",
     "text": [
      "/home/abhijit/.local/lib/python3.6/site-packages/ipykernel_launcher.py:6: RuntimeWarning: invalid value encountered in true_divide\n",
      "  \n"
     ]
    }
   ],
   "source": [
    "for ep in experience: \n",
    "    for s,G in ep:\n",
    "        G_total[s]+=G\n",
    "        N_total[s]+=1\n",
    "        \n",
    "V=G_total/N_total\n",
    "\n",
    "        "
   ]
  },
  {
   "cell_type": "code",
   "execution_count": 26,
   "metadata": {},
   "outputs": [
    {
     "data": {
      "text/plain": [
       "array([-10093.65304279,  -8002.93730769,  -6480.48408897,  -6715.04354192,\n",
       "        -4500.09422642,  -3678.22080437,  -2947.77532829,  -2466.18768935,\n",
       "        -7812.69103167,  -7757.76471611,  -7115.28665119,  -6928.90760976,\n",
       "        -4934.86728033,  -3752.86424311,  -3751.21856302,  -2979.65359087,\n",
       "        -2887.94702703,  -1563.79535714,  -1623.89741935,  -3018.07146625,\n",
       "        -3108.0975378 ,  -3651.25296548,  -3600.8762256 ,  -2870.2488164 ,\n",
       "        -2658.14205438,  -1329.58496418,  -1634.12033981,  -2661.2135443 ,\n",
       "        -2620.64788462,  -3359.36875   ,  -3216.74982143,  -3432.03592857,\n",
       "        -3516.21960352,  -1300.15926302,  -1408.63492754,  -1701.60314286,\n",
       "        -1852.003     ,  -2832.829     ,  -1484.50857143,  -3314.71403846,\n",
       "        -3235.38823529,  -1034.48585185,             nan,   -951.884     ,\n",
       "        -1725.3325    ,  -2461.975     ,             nan,     38.6       ,\n",
       "                   nan,             nan,             nan,             nan,\n",
       "                   nan])"
      ]
     },
     "execution_count": 26,
     "metadata": {},
     "output_type": "execute_result"
    }
   ],
   "source": [
    "V"
   ]
  },
  {
   "cell_type": "code",
   "execution_count": 27,
   "metadata": {},
   "outputs": [
    {
     "data": {
      "text/plain": [
       "array([2.7925e+04, 6.3180e+03, 2.6706e+04, 5.8330e+03, 1.3250e+03,\n",
       "       1.2084e+04, 8.7270e+03, 7.7900e+03, 3.3819e+04, 3.4520e+04,\n",
       "       4.7390e+03, 4.5100e+03, 7.1700e+02, 4.4260e+03, 2.0390e+03,\n",
       "       1.1390e+03, 1.1100e+02, 9.2400e+02, 8.9900e+02, 1.2890e+03,\n",
       "       1.3890e+03, 4.2590e+03, 4.6100e+02, 1.0730e+03, 3.3100e+02,\n",
       "       1.3960e+03, 2.0600e+02, 4.7400e+02, 4.6800e+02, 3.3600e+02,\n",
       "       5.6000e+01, 1.4000e+02, 2.2700e+02, 1.5740e+03, 3.4500e+02,\n",
       "       1.0500e+02, 4.0000e+01, 3.0000e+01, 7.7000e+01, 1.5600e+02,\n",
       "       1.7000e+01, 1.3500e+02, 0.0000e+00, 1.0000e+01, 4.0000e+00,\n",
       "       6.0000e+00, 0.0000e+00, 1.0000e+00, 0.0000e+00, 0.0000e+00,\n",
       "       0.0000e+00, 0.0000e+00, 0.0000e+00])"
      ]
     },
     "execution_count": 27,
     "metadata": {},
     "output_type": "execute_result"
    }
   ],
   "source": [
    "N_total"
   ]
  },
  {
   "cell_type": "markdown",
   "metadata": {},
   "source": [
    "### For FIrst visit"
   ]
  },
  {
   "cell_type": "code",
   "execution_count": 29,
   "metadata": {},
   "outputs": [
    {
     "name": "stderr",
     "output_type": "stream",
     "text": [
      "/home/abhijit/.local/lib/python3.6/site-packages/ipykernel_launcher.py:10: RuntimeWarning: invalid value encountered in true_divide\n",
      "  # Remove the CWD from sys.path while we load stuff.\n"
     ]
    }
   ],
   "source": [
    "for ep in experience: \n",
    "    seen=[]\n",
    "    for s,G in ep:\n",
    "        if s not in seen:\n",
    "            \n",
    "            G_total[s]+=G\n",
    "            N_total[s]+=1\n",
    "            seen.append(s)\n",
    "        \n",
    "V=G_total/N_total\n",
    "\n",
    "        "
   ]
  },
  {
   "cell_type": "code",
   "execution_count": 30,
   "metadata": {},
   "outputs": [
    {
     "name": "stderr",
     "output_type": "stream",
     "text": [
      "/home/abhijit/.local/lib/python3.6/site-packages/ipykernel_launcher.py:1: RuntimeWarning: invalid value encountered in true_divide\n",
      "  \"\"\"Entry point for launching an IPython kernel.\n"
     ]
    }
   ],
   "source": [
    "V=G_total/N_total"
   ]
  },
  {
   "cell_type": "code",
   "execution_count": 31,
   "metadata": {},
   "outputs": [
    {
     "data": {
      "text/plain": [
       "array([-10420.82006154,  -9115.6442268 ,  -6666.44763728,  -7416.81957384,\n",
       "        -4952.35985128,  -3751.87960058,  -3025.54980149,  -2518.12888889,\n",
       "        -8093.26483468,  -8034.84459275,  -8031.27569182,  -7789.73119534,\n",
       "        -5311.46207207,  -3883.37347213,  -3847.57633077,  -3082.80748201,\n",
       "        -3026.12833333,  -1630.725625  ,  -1702.72477477,  -3162.26259386,\n",
       "        -3264.86270253,  -3778.18672723,  -3821.15568807,  -2981.13730025,\n",
       "        -2654.07428571,  -1380.0204008 ,  -1712.4262    ,  -2820.64478992,\n",
       "        -2768.42818336,  -3635.71832653,  -3402.82623762,  -3655.51028302,\n",
       "        -3525.57354582,  -1345.38044723,  -1516.74695556,  -1856.02537572,\n",
       "        -1853.68875   ,  -2990.872     ,  -1508.968     ,  -3308.13482759,\n",
       "        -3617.47      ,  -1064.03409756,             nan,  -1060.01888889,\n",
       "        -1725.3325    ,  -2165.68      ,             nan,     38.6       ,\n",
       "                   nan,             nan,             nan,             nan,\n",
       "                   nan])"
      ]
     },
     "execution_count": 31,
     "metadata": {},
     "output_type": "execute_result"
    }
   ],
   "source": [
    "V"
   ]
  },
  {
   "cell_type": "markdown",
   "metadata": {},
   "source": [
    "#### Online Evauation"
   ]
  },
  {
   "cell_type": "code",
   "execution_count": 40,
   "metadata": {},
   "outputs": [],
   "source": [
    "V_total=np.zeros(env.state_count)  \n",
    "N_total=np.zeros(env.state_count) "
   ]
  },
  {
   "cell_type": "markdown",
   "metadata": {},
   "source": [
    "### For Every Visit"
   ]
  },
  {
   "cell_type": "code",
   "execution_count": 38,
   "metadata": {},
   "outputs": [],
   "source": [
    "for ep in experience: \n",
    "    for s,G in ep:\n",
    "        V_total[s]=V_total[s]+(1/(N_total[s]+1))*(G-V_total[s])\n",
    "        N_total[s]+=1\n",
    "        \n",
    "\n",
    "        "
   ]
  },
  {
   "cell_type": "code",
   "execution_count": 39,
   "metadata": {},
   "outputs": [
    {
     "data": {
      "text/plain": [
       "array([-10093.65304279,  -8002.93730769,  -6480.48408897,  -6715.04354192,\n",
       "        -4500.09422642,  -3678.22080437,  -2947.77532829,  -2466.18768935,\n",
       "        -7812.69103167,  -7757.76471611,  -7115.28665119,  -6928.90760976,\n",
       "        -4934.86728033,  -3752.86424311,  -3751.21856302,  -2979.65359087,\n",
       "        -2887.94702703,  -1563.79535714,  -1623.89741935,  -3018.07146625,\n",
       "        -3108.0975378 ,  -3651.25296548,  -3600.8762256 ,  -2870.2488164 ,\n",
       "        -2658.14205438,  -1329.58496418,  -1634.12033981,  -2661.2135443 ,\n",
       "        -2620.64788462,  -3359.36875   ,  -3216.74982143,  -3432.03592857,\n",
       "        -3516.21960352,  -1300.15926302,  -1408.63492754,  -1701.60314286,\n",
       "        -1852.003     ,  -2832.829     ,  -1484.50857143,  -3314.71403846,\n",
       "        -3235.38823529,  -1034.48585185,      0.        ,   -951.884     ,\n",
       "        -1725.3325    ,  -2461.975     ,      0.        ,     38.6       ,\n",
       "            0.        ,      0.        ,      0.        ,      0.        ,\n",
       "            0.        ])"
      ]
     },
     "execution_count": 39,
     "metadata": {},
     "output_type": "execute_result"
    }
   ],
   "source": [
    "V_total"
   ]
  },
  {
   "cell_type": "markdown",
   "metadata": {},
   "source": [
    "### For First Visit"
   ]
  },
  {
   "cell_type": "code",
   "execution_count": 41,
   "metadata": {},
   "outputs": [],
   "source": [
    "for ep in experience: \n",
    "    seen=[]\n",
    "    for s,G in ep:\n",
    "        if s not in seen:\n",
    "            V_total[s]=V_total[s]+(1/(N_total[s]+1))*(G-V_total[s])\n",
    "            N_total[s]+=1\n",
    "            seen.append(s)\n",
    "        \n",
    "\n",
    "        "
   ]
  },
  {
   "cell_type": "code",
   "execution_count": 42,
   "metadata": {},
   "outputs": [
    {
     "data": {
      "text/plain": [
       "array([-19556.95906   , -16461.60275862, -12172.37060976, -11842.1812973 ,\n",
       "        -6635.65185393,  -6416.82838323,  -5366.02506897,  -4285.03694323,\n",
       "       -17658.51225806, -17609.21630631, -12438.25240609, -11759.37779141,\n",
       "        -6268.9743617 ,  -6130.97599222,  -4976.73431034,  -4131.84571429,\n",
       "        -3326.87588235,  -2249.1613    ,  -2411.3827    ,  -4218.29875   ,\n",
       "        -4404.89837696,  -5906.57606299,  -4347.31544041,  -4006.85577586,\n",
       "        -2625.42680851,  -2077.1280198 ,  -1884.03265957,  -3445.19363636,\n",
       "        -3340.00818182,  -4238.66285714,  -3634.388     ,  -4090.04375   ,\n",
       "        -3614.04625   ,  -2036.43038835,  -1871.97219048,  -2094.47147059,\n",
       "        -1855.7959375 ,  -3180.5236    ,  -1653.84307692,  -3251.115     ,\n",
       "        -4158.7525    ,  -1121.02      ,      0.        ,  -1195.1875    ,\n",
       "        -1725.3325    ,  -1810.126     ,      0.        ,     38.6       ,\n",
       "            0.        ,      0.        ,      0.        ,      0.        ,\n",
       "            0.        ])"
      ]
     },
     "execution_count": 42,
     "metadata": {},
     "output_type": "execute_result"
    }
   ],
   "source": [
    "V_total"
   ]
  },
  {
   "cell_type": "markdown",
   "metadata": {},
   "source": [
    "### TD Learning "
   ]
  },
  {
   "cell_type": "code",
   "execution_count": 55,
   "metadata": {},
   "outputs": [],
   "source": [
    "def get_states(policy):\n",
    "    curr_state=env.reset()\n",
    "    while True:\n",
    "        action=policy[curr_state]\n",
    "        next_state,reward,done, info=env.step(action)\n",
    "        yield(curr_state,reward,next_state)\n",
    "        if done:\n",
    "            curr_state=env.reset()\n",
    "        else:\n",
    "            curr_state=next_state"
   ]
  },
  {
   "cell_type": "code",
   "execution_count": 56,
   "metadata": {},
   "outputs": [],
   "source": [
    "generator=get_states(policy)"
   ]
  },
  {
   "cell_type": "code",
   "execution_count": 57,
   "metadata": {},
   "outputs": [
    {
     "data": {
      "text/plain": [
       "<generator object get_states at 0x7fc139d7cdb0>"
      ]
     },
     "execution_count": 57,
     "metadata": {},
     "output_type": "execute_result"
    }
   ],
   "source": [
    "generator"
   ]
  },
  {
   "cell_type": "code",
   "execution_count": 52,
   "metadata": {},
   "outputs": [],
   "source": [
    "alpha=0.001\n",
    "gamma=0.99\n",
    "v=np.zeros(env.state_count)"
   ]
  },
  {
   "cell_type": "code",
   "execution_count": 53,
   "metadata": {},
   "outputs": [],
   "source": [
    "for step in range(100000):\n",
    "    s,r,s_prime=next(generator)\n",
    "    v[s]=v[s]+alpha*((r+gamma*v[s_prime])-v[s])"
   ]
  },
  {
   "cell_type": "code",
   "execution_count": 54,
   "metadata": {},
   "outputs": [
    {
     "data": {
      "text/plain": [
       "array([-1.11561982e+01, -8.95664619e+00, -8.19675733e+00, -5.94938312e+00,\n",
       "       -1.78903331e+00, -5.16975781e+00, -4.88849630e+00, -4.67592196e+00,\n",
       "       -1.20198327e+01, -1.15783029e+01, -3.54735003e+00, -3.89243334e+00,\n",
       "       -5.69364502e-01, -1.88358832e+00, -1.00849532e+00, -6.36564067e-01,\n",
       "       -1.02250312e-01, -3.82527245e-01, -3.67586368e-01, -5.69740568e-01,\n",
       "       -6.27359074e-01, -1.80729658e+00, -3.84005541e-01, -5.92196860e-01,\n",
       "       -2.47681048e-01, -6.95390399e-01, -9.75145818e-02, -2.55218395e-01,\n",
       "       -2.54244127e-01, -2.47949787e-01, -3.42163179e-02, -1.02393031e-01,\n",
       "       -1.68981330e-01, -7.43675133e-01, -1.07732827e-01, -3.79925815e-02,\n",
       "       -1.41306465e-02, -2.07355639e-02, -7.67481614e-02, -2.17438642e-01,\n",
       "       -2.56255342e-02, -2.29252496e-02,  0.00000000e+00, -3.04624739e-03,\n",
       "        0.00000000e+00, -4.02869618e-03,  0.00000000e+00,  0.00000000e+00,\n",
       "        0.00000000e+00,  0.00000000e+00,  0.00000000e+00,  0.00000000e+00,\n",
       "        0.00000000e+00])"
      ]
     },
     "execution_count": 54,
     "metadata": {},
     "output_type": "execute_result"
    }
   ],
   "source": [
    "v"
   ]
  },
  {
   "cell_type": "code",
   "execution_count": null,
   "metadata": {},
   "outputs": [],
   "source": []
  }
 ],
 "metadata": {
  "kernelspec": {
   "display_name": "Python 3",
   "language": "python",
   "name": "python3"
  },
  "language_info": {
   "codemirror_mode": {
    "name": "ipython",
    "version": 3
   },
   "file_extension": ".py",
   "mimetype": "text/x-python",
   "name": "python",
   "nbconvert_exporter": "python",
   "pygments_lexer": "ipython3",
   "version": "3.6.9"
  }
 },
 "nbformat": 4,
 "nbformat_minor": 2
}

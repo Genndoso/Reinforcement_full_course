{
 "cells": [
  {
   "cell_type": "markdown",
   "metadata": {},
   "source": [
    "#### Probability Mass Function Generator "
   ]
  },
  {
   "cell_type": "code",
   "execution_count": 3,
   "metadata": {},
   "outputs": [],
   "source": [
    "def randomizer(a, probabilities):\n",
    "    import numpy as np\n",
    "    cumulative=[]\n",
    "    num_classes=len(a)\n",
    "    i=0\n",
    "    while i<num_classes:\n",
    "        sum=0\n",
    "        for j in range(i+1):\n",
    "            sum+=probabilities[j] \n",
    "        cumulative.append(sum)\n",
    "        i+=1\n",
    "    if cumulative[num_classes-1]>1 or cumulative[num_classes-1]<1:\n",
    "        print(\"error\")\n",
    "        return -1\n",
    "    cumulative.insert(0,0.)\n",
    "    number=np.random.uniform(0.,1.)\n",
    "    i=1\n",
    "    while i<=(num_classes):\n",
    "        if number>=cumulative[i-1] and number<cumulative[i]:\n",
    "            return(a[i-1])\n",
    "        i+=1\n",
    "    \n",
    "    "
   ]
  },
  {
   "cell_type": "markdown",
   "metadata": {},
   "source": [
    "### Markov Process"
   ]
  },
  {
   "cell_type": "markdown",
   "metadata": {},
   "source": [
    "<img src=\"Markov_process.png\">"
   ]
  },
  {
   "cell_type": "code",
   "execution_count": 5,
   "metadata": {},
   "outputs": [],
   "source": [
    "def markov_process(S_vec, states, Ptr, states_req):\n",
    "    import numpy as np \n",
    "    import tensorflow_core as tf\n",
    "    for i in range(states_req):\n",
    "        print(\"State at Time t={}: {}\".format(i,np.argmax(S_vec)))\n",
    "        Q_vec=np.matmul(S_vec,Ptr)\n",
    "        S_vec=tf.keras.utils.to_categorical(randomizer(states, Q_vec),len(S_vec))\n",
    "    \n",
    "        "
   ]
  },
  {
   "cell_type": "markdown",
   "metadata": {},
   "source": [
    "#### For 3 states"
   ]
  },
  {
   "cell_type": "code",
   "execution_count": 6,
   "metadata": {},
   "outputs": [
    {
     "name": "stdout",
     "output_type": "stream",
     "text": [
      "State at Time t=0: 0\n",
      "State at Time t=1: 1\n",
      "State at Time t=2: 1\n",
      "State at Time t=3: 2\n",
      "State at Time t=4: 0\n",
      "State at Time t=5: 2\n",
      "State at Time t=6: 0\n",
      "State at Time t=7: 1\n",
      "State at Time t=8: 0\n",
      "State at Time t=9: 1\n"
     ]
    }
   ],
   "source": [
    "import numpy as np\n",
    "Ptr=np.array([\n",
    "    [0.1,0.4,0.5],\n",
    "    [0.3,0.2,0.5],\n",
    "    [0.5,0.3,0.2]\n",
    "])\n",
    "S_vec=np.array([1.,0.,0.])\n",
    "states=[0,1,2]\n",
    "states_req=10\n",
    "\n",
    "markov_process(S_vec, states, Ptr, states_req)"
   ]
  },
  {
   "cell_type": "markdown",
   "metadata": {},
   "source": [
    "#### For 4 states"
   ]
  },
  {
   "cell_type": "code",
   "execution_count": 7,
   "metadata": {},
   "outputs": [
    {
     "name": "stdout",
     "output_type": "stream",
     "text": [
      "State at Time t=0: 0\n",
      "State at Time t=1: 1\n",
      "State at Time t=2: 0\n",
      "State at Time t=3: 1\n",
      "State at Time t=4: 3\n",
      "State at Time t=5: 3\n",
      "State at Time t=6: 3\n",
      "State at Time t=7: 1\n",
      "State at Time t=8: 3\n",
      "State at Time t=9: 2\n"
     ]
    }
   ],
   "source": [
    "import numpy as np\n",
    "Ptr=np.array([\n",
    "    [0.1,0.3,0.2,0.4],\n",
    "    [0.3,0.2,0.2,0.3],\n",
    "    [0.2,0.3,0.2,0.3],\n",
    "    [0.1,0.2,0.4,0.3]\n",
    "])\n",
    "S_vec=np.array([1.,0.,0.,0.])\n",
    "states=[0,1,2,3]\n",
    "states_req=10\n",
    "\n",
    "markov_process(S_vec, states, Ptr, states_req)"
   ]
  },
  {
   "cell_type": "markdown",
   "metadata": {},
   "source": [
    "### Markov Reward Process"
   ]
  },
  {
   "cell_type": "markdown",
   "metadata": {},
   "source": [
    "<img src=\"MRP.png\">"
   ]
  },
  {
   "cell_type": "code",
   "execution_count": 8,
   "metadata": {},
   "outputs": [],
   "source": [
    "def MRP(S_vec, reward, states, Ptr, states_req):\n",
    "    import numpy as np \n",
    "    import tensorflow_core as tf\n",
    "    for i in range(states_req):\n",
    "        print(\"State at Time t={}: {}, Reward gained= {}\".format(i,np.argmax(S_vec),reward[np.argmax(S_vec)]))\n",
    "        Q_vec=np.matmul(S_vec,Ptr)\n",
    "        S_vec=tf.keras.utils.to_categorical(randomizer(states, Q_vec),len(S_vec))\n",
    "    "
   ]
  },
  {
   "cell_type": "markdown",
   "metadata": {},
   "source": [
    "#### For 3 states"
   ]
  },
  {
   "cell_type": "code",
   "execution_count": 9,
   "metadata": {},
   "outputs": [
    {
     "name": "stdout",
     "output_type": "stream",
     "text": [
      "State at Time t=0: 0, Reward gained= 2\n",
      "State at Time t=1: 0, Reward gained= 2\n",
      "State at Time t=2: 2, Reward gained= 5\n",
      "State at Time t=3: 2, Reward gained= 5\n",
      "State at Time t=4: 0, Reward gained= 2\n",
      "State at Time t=5: 2, Reward gained= 5\n",
      "State at Time t=6: 1, Reward gained= 3\n",
      "State at Time t=7: 2, Reward gained= 5\n",
      "State at Time t=8: 2, Reward gained= 5\n",
      "State at Time t=9: 0, Reward gained= 2\n"
     ]
    }
   ],
   "source": [
    "import numpy as np\n",
    "Ptr=np.array([\n",
    "    [0.1,0.4,0.5],\n",
    "    [0.3,0.2,0.5],\n",
    "    [0.5,0.3,0.2]\n",
    "])\n",
    "R=np.array([2,3,5])\n",
    "S_vec=np.array([1.,0.,0.])\n",
    "states=[0,1,2]\n",
    "states_req=10\n",
    "\n",
    "MRP(S_vec, R, states, Ptr, states_req)"
   ]
  },
  {
   "cell_type": "markdown",
   "metadata": {},
   "source": [
    "#### For 4 States"
   ]
  },
  {
   "cell_type": "code",
   "execution_count": 10,
   "metadata": {},
   "outputs": [
    {
     "name": "stdout",
     "output_type": "stream",
     "text": [
      "State at Time t=0: 0, Reward gained= 2\n",
      "State at Time t=1: 2, Reward gained= 5\n",
      "State at Time t=2: 0, Reward gained= 2\n",
      "State at Time t=3: 3, Reward gained= 4\n",
      "State at Time t=4: 2, Reward gained= 5\n",
      "State at Time t=5: 3, Reward gained= 4\n",
      "State at Time t=6: 3, Reward gained= 4\n",
      "State at Time t=7: 3, Reward gained= 4\n",
      "State at Time t=8: 3, Reward gained= 4\n",
      "State at Time t=9: 1, Reward gained= 3\n"
     ]
    }
   ],
   "source": [
    "import numpy as np\n",
    "Ptr=np.array([\n",
    "    [0.1,0.3,0.2,0.4],\n",
    "    [0.3,0.2,0.2,0.3],\n",
    "    [0.2,0.3,0.2,0.3],\n",
    "    [0.1,0.2,0.4,0.3]\n",
    "])\n",
    "R=np.array([2,3,5,4])\n",
    "S_vec=np.array([1.,0.,0.,0.])\n",
    "states=[0,1,2,3]\n",
    "states_req=10\n",
    "\n",
    "MRP(S_vec, R, states, Ptr, states_req)"
   ]
  },
  {
   "cell_type": "code",
   "execution_count": null,
   "metadata": {},
   "outputs": [],
   "source": []
  },
  {
   "cell_type": "code",
   "execution_count": null,
   "metadata": {},
   "outputs": [],
   "source": []
  }
 ],
 "metadata": {
  "kernelspec": {
   "display_name": "Python 3",
   "language": "python",
   "name": "python3"
  },
  "language_info": {
   "codemirror_mode": {
    "name": "ipython",
    "version": 3
   },
   "file_extension": ".py",
   "mimetype": "text/x-python",
   "name": "python",
   "nbconvert_exporter": "python",
   "pygments_lexer": "ipython3",
   "version": "3.6.9"
  }
 },
 "nbformat": 4,
 "nbformat_minor": 2
}

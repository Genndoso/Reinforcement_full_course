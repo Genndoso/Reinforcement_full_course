{
 "cells": [
  {
   "cell_type": "markdown",
   "metadata": {},
   "source": [
    "### MDP policy improvement"
   ]
  },
  {
   "cell_type": "markdown",
   "metadata": {},
   "source": [
    "<img src=\"MDP_Policy_iteration.png\">"
   ]
  },
  {
   "cell_type": "code",
   "execution_count": 2,
   "metadata": {},
   "outputs": [],
   "source": [
    "import numpy as np"
   ]
  },
  {
   "cell_type": "code",
   "execution_count": 3,
   "metadata": {},
   "outputs": [],
   "source": [
    "P_tr=np.array([\n",
    "    [\n",
    "        [0,1,0,0,0,0],\n",
    "        [0,1,0,0,0,0],\n",
    "        [0,0,1,0,0,0],\n",
    "        [0,0,0,0,1,0],\n",
    "        [0,0,0,0,0,1],\n",
    "        [0,0,0,0,0,1],\n",
    "    ],\n",
    "    [\n",
    "        [0,0,0,1,0,0],\n",
    "        [0,1,0,0,0,0],\n",
    "        [0,0,0,0,0,1],\n",
    "        [0,0,0,1,0,0],\n",
    "        [0,0,0,0,1,0],\n",
    "        [0,0,0,0,0,1],\n",
    "    ],\n",
    "    [\n",
    "        [1,0,0,0,0,0],\n",
    "        [1,0,0,0,0,0],\n",
    "        [0,0,1,0,0,0],\n",
    "        [0,0,0,1,0,0],\n",
    "        [0,0,0,1,0,0],\n",
    "        [0,0,0,0,1,0],\n",
    "    ],\n",
    "    [\n",
    "        [1,0,0,0,0,0],\n",
    "        [0,1,0,0,0,0],\n",
    "        [0,0,1,0,0,0],\n",
    "        [1,0,0,0,0,0],\n",
    "        [0,0,0,0,1,0],\n",
    "        [0,0,1,0,0,0],\n",
    "    ],\n",
    "    \n",
    "])\n",
    "\n",
    "R_tr=np.array([\n",
    "    [\n",
    "        [-1],\n",
    "        [-1],\n",
    "        [10],\n",
    "        [-1],\n",
    "        [-1],\n",
    "        [-1]\n",
    "    ],\n",
    "    [\n",
    "        [-1],\n",
    "        [-1],\n",
    "        [-1],\n",
    "        [-1],\n",
    "        [-1],\n",
    "        [-1]\n",
    "    ],\n",
    "    [\n",
    "        [-1],\n",
    "        [-1],\n",
    "        [10],\n",
    "        [-1],\n",
    "        [-1],\n",
    "        [-1]\n",
    "    ],\n",
    "    [\n",
    "        [-1],\n",
    "        [-1],\n",
    "        [-1],\n",
    "        [-1],\n",
    "        [-1],\n",
    "        [10]\n",
    "    ],\n",
    "])\n",
    "gamma=0.9\n",
    "actions=[0,1,2,3]\n",
    "states=[0,1,2,3,4,5]\n"
   ]
  },
  {
   "cell_type": "markdown",
   "metadata": {},
   "source": [
    "### Deterministic"
   ]
  },
  {
   "cell_type": "markdown",
   "metadata": {},
   "source": [
    "### Value difference based "
   ]
  },
  {
   "cell_type": "code",
   "execution_count": 22,
   "metadata": {},
   "outputs": [],
   "source": [
    "import numpy as np\n",
    "import itertools\n",
    "import matplotlib.pyplot as plt\n",
    "def get_rewards_and_state(P_tr,R_tr,states,gamma):\n",
    "    Q=np.zeros(P_tr.shape)\n",
    "    V=np.zeros(R_tr.shape)\n",
    "    V_prev=np.ones(R_tr.shape)\n",
    "    epsilon=0.000000001\n",
    "    \n",
    "    log=[]\n",
    "    \n",
    "    while ((V-V_prev)**2).sum()**0.5>epsilon:\n",
    "        Q=R_tr+gamma*np.matmul(P_tr,V)\n",
    "        V_prev=V.copy()\n",
    "        V=np.max(Q,axis=0)\n",
    "        policy=np.argmax(Q,axis=0)\n",
    "        log.append((policy.flatten(),V.sum()))\n",
    "\n",
    "\n",
    "    best_pol=sorted(log,key=lambda e:e[1])[-1]\n",
    "    fig=plt.figure(figsize=(15,5))\n",
    "    ax=fig.add_subplot(111)\n",
    "    ax.plot([i for i,e in enumerate(log)],[e[1] for e in log])\n",
    "    return best_pol\n",
    "    \n",
    "    \n",
    "def caller(actions,states,P_tr,R_tr,gamma):\n",
    "    \n",
    "    policy=get_rewards_and_state(P_tr,R_tr,states,gamma)\n",
    "    return policy"
   ]
  },
  {
   "cell_type": "code",
   "execution_count": 23,
   "metadata": {},
   "outputs": [
    {
     "data": {
      "image/png": "[encoded data removed]",
      "text/plain": [
       "<Figure size 1080x360 with 1 Axes>"
      ]
     },
     "metadata": {
      "needs_background": "light"
     },
     "output_type": "display_data"
    }
   ],
   "source": [
    "policy=caller(actions,states,P_tr,R_tr,gamma)"
   ]
  },
  {
   "cell_type": "code",
   "execution_count": 24,
   "metadata": {},
   "outputs": [
    {
     "data": {
      "text/plain": [
       "(array([1, 2, 0, 0, 0, 3]), 500.46099998006196)"
      ]
     },
     "execution_count": 24,
     "metadata": {},
     "output_type": "execute_result"
    }
   ],
   "source": [
    "policy"
   ]
  },
  {
   "cell_type": "markdown",
   "metadata": {},
   "source": [
    "### Policy change based"
   ]
  },
  {
   "cell_type": "code",
   "execution_count": 38,
   "metadata": {},
   "outputs": [],
   "source": [
    "import numpy as np\n",
    "import itertools\n",
    "import matplotlib.pyplot as plt\n",
    "def get_rewards_and_state(P_tr,R_tr,states,gamma):\n",
    "    Q=np.zeros(P_tr.shape)\n",
    "    Pi=np.zeros(R_tr.shape)\n",
    "    V=np.zeros(R_tr.shape)\n",
    "    Pi_prev=np.ones(R_tr.shape)\n",
    "    epsilon=0.000000001\n",
    "    \n",
    "    log=[]\n",
    "    \n",
    "    while (Pi-Pi_prev).sum()!=0:\n",
    "        Q=R_tr+gamma*np.matmul(P_tr,V)\n",
    "        Pi_prev=Pi.copy()\n",
    "        V=np.max(Q,axis=0)\n",
    "        Pi=np.argmax(Q,axis=0)\n",
    "        log.append((Pi.flatten(),V.sum()))\n",
    "\n",
    "\n",
    "    best_pol=sorted(log,key=lambda e:e[1])[-1]\n",
    "    fig=plt.figure(figsize=(15,5))\n",
    "    ax=fig.add_subplot(111)\n",
    "    ax.plot([i for i,e in enumerate(log)],[e[1] for e in log])\n",
    "    return best_pol\n",
    "    \n",
    "    \n",
    "def caller(actions,states,P_tr,R_tr,gamma):\n",
    "    \n",
    "    policy=get_rewards_and_state(P_tr,R_tr,states,gamma)\n",
    "    return policy"
   ]
  },
  {
   "cell_type": "code",
   "execution_count": 41,
   "metadata": {},
   "outputs": [
    {
     "data": {
      "image/png": "[encoded data removed]",
      "text/plain": [
       "<Figure size 1080x360 with 1 Axes>"
      ]
     },
     "metadata": {
      "needs_background": "light"
     },
     "output_type": "display_data"
    }
   ],
   "source": [
    "policy=caller(actions,states,P_tr,R_tr,gamma)"
   ]
  },
  {
   "cell_type": "code",
   "execution_count": 42,
   "metadata": {},
   "outputs": [
    {
     "data": {
      "text/plain": [
       "(array([0, 0, 0, 0, 0, 3]), 40.3)"
      ]
     },
     "execution_count": 42,
     "metadata": {},
     "output_type": "execute_result"
    }
   ],
   "source": [
    "policy"
   ]
  },
  {
   "cell_type": "markdown",
   "metadata": {},
   "source": [
    "### Probabilistic Approach"
   ]
  },
  {
   "cell_type": "code",
   "execution_count": 51,
   "metadata": {},
   "outputs": [],
   "source": [
    "import numpy as np\n",
    "import itertools\n",
    "import matplotlib.pyplot as plt\n",
    "def get_rewards_and_state(P_tr,R_tr,states,gamma):\n",
    "    Q=np.zeros(P_tr.shape)\n",
    "    V=np.zeros(R_tr.shape)\n",
    "    V_prev=np.ones(R_tr.shape)\n",
    "    epsilon=0.000000001\n",
    "    \n",
    "    log=[]\n",
    "    \n",
    "    while ((V-V_prev)**2).sum()**0.5>epsilon:\n",
    "        Q=R_tr+gamma*np.matmul(P_tr,V)\n",
    "        pi=((np.e**Q)/np.sum(np.e**Q,axis=0))\n",
    "        V_prev=V.copy()\n",
    "        V=np.multiply(((np.e**Q)/np.sum(np.e**Q,axis=0)),Q).sum(axis=0)\n",
    "        log.append((pi.reshape(P_tr.shape[0],P_tr.shape[-1]).transpose(1,0),V.sum()))\n",
    "\n",
    "\n",
    "    best_pol=sorted(log,key=lambda e:e[1])[-1]\n",
    "    fig=plt.figure(figsize=(15,5))\n",
    "    ax=fig.add_subplot(111)\n",
    "    ax.plot([i for i,e in enumerate(log)],[e[1] for e in log])\n",
    "    return best_pol\n",
    "    \n",
    "    \n",
    "def caller(actions,states,P_tr,R_tr,gamma):\n",
    "    \n",
    "    policy=get_rewards_and_state(P_tr,R_tr,states,gamma)\n",
    "    return policy"
   ]
  },
  {
   "cell_type": "code",
   "execution_count": 52,
   "metadata": {},
   "outputs": [
    {
     "data": {
      "image/png": "[encoded data removed]",
      "text/plain": [
       "<Figure size 1080x360 with 1 Axes>"
      ]
     },
     "metadata": {
      "needs_background": "light"
     },
     "output_type": "display_data"
    }
   ],
   "source": [
    "policy=caller(actions,states,P_tr,R_tr,gamma)"
   ]
  },
  {
   "cell_type": "code",
   "execution_count": 53,
   "metadata": {},
   "outputs": [
    {
     "data": {
      "text/plain": [
       "(array([[2.37219334e-07, 9.99344712e-01, 3.27525410e-04, 3.27525410e-04],\n",
       "        [7.22707326e-04, 7.22707326e-04, 9.97831878e-01, 7.22707326e-04],\n",
       "        [4.99991650e-01, 8.34933053e-06, 4.99991650e-01, 8.35071094e-06],\n",
       "        [9.99730480e-01, 1.34737976e-04, 1.34737976e-04, 4.41590476e-08],\n",
       "        [9.99899725e-01, 5.01339576e-05, 6.75676905e-09, 5.01339576e-05],\n",
       "        [1.66983822e-05, 1.66983822e-05, 8.37239942e-10, 9.99966602e-01]]),\n",
       " 500.4152944655599)"
      ]
     },
     "execution_count": 53,
     "metadata": {},
     "output_type": "execute_result"
    }
   ],
   "source": [
    "policy"
   ]
  },
  {
   "cell_type": "code",
   "execution_count": 54,
   "metadata": {},
   "outputs": [
    {
     "data": {
      "text/plain": [
       "array([1, 2, 0, 0, 0, 3])"
      ]
     },
     "execution_count": 54,
     "metadata": {},
     "output_type": "execute_result"
    }
   ],
   "source": [
    "np.argmax(policy[0],axis=1)"
   ]
  },
  {
   "cell_type": "code",
   "execution_count": null,
   "metadata": {},
   "outputs": [],
   "source": []
  }
 ],
 "metadata": {
  "kernelspec": {
   "display_name": "Python 3",
   "language": "python",
   "name": "python3"
  },
  "language_info": {
   "codemirror_mode": {
    "name": "ipython",
    "version": 3
   },
   "file_extension": ".py",
   "mimetype": "text/x-python",
   "name": "python",
   "nbconvert_exporter": "python",
   "pygments_lexer": "ipython3",
   "version": "3.6.9"
  }
 },
 "nbformat": 4,
 "nbformat_minor": 2
}
